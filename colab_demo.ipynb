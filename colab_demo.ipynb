{
  "nbformat": 4,
  "nbformat_minor": 0,
  "metadata": {
    "colab": {
      "provenance": []
    },
    "kernelspec": {
      "name": "python3",
      "display_name": "Python 3"
    },
    "language_info": {
      "name": "python"
    },
    "accelerator": "GPU",
    "gpuClass": "standard"
  },
  "cells": [
    {
      "cell_type": "markdown",
      "source": [
        "# A Dynamic Multi-Scale Voxel Flow Network for Video Prediction\n",
        "\n",
        "![image](https://github.com/megvii-research/CVPR2023-DMVFN/raw/main/images/comparison.png)\n",
        "\n",
        "This project is the official implement of [A Dynamic Multi-Scale Voxel Flow Network for Video Prediction](https://github.com/megvii-research/CVPR2023-DMVFN), we proposed a SOTA model for Video Prediction. Watch more demos in our [HomePage](https://huxiaotaostasy.github.io/DMVFN).\n",
        "\n",
        "This colab notebook provides a simple method to test our model. Press start on the left of each following block."
      ],
      "metadata": {
        "id": "7-FACHnTQYkO"
      }
    },
    {
      "cell_type": "code",
      "execution_count": null,
      "metadata": {
        "id": "cxEvr5prg5z6",
        "cellView": "form"
      },
      "outputs": [],
      "source": [
        "#@title Setup Repository\n",
        "#@markdown Clone git repo and install requirements.\n",
        "!git clone https://github.com/megvii-research/CVPR2023-DMVFN.git\n",
        "import os\n",
        "os.chdir(\"/content/CVPR2023-DMVFN/\")\n",
        "!pip3 install -r requirements.txt"
      ]
    },
    {
      "cell_type": "code",
      "source": [
        "#@title Download pretrained weights\n",
        "!mkdir pretrained_models\n",
        "import os\n",
        "os.chdir(\"./pretrained_models/\")\n",
        "!gdown --id 1jILbS8Gm4E5Xx4tDCPZh_7rId0eo8r9W\n",
        "!gdown --id 1WrV30prRiS4hWOQBnVPUxdaTlp9XxmVK\n",
        "!gdown --id 14_xQ3Yl3mO89hr28hbcQW3h63lLrcYY0\n",
        "os.chdir(\"../\")"
      ],
      "metadata": {
        "id": "eELUmhDhhCht",
        "cellView": "form",
        "outputId": "8f7acfe5-54dd-4ed6-c4d2-407447bf1d53",
        "colab": {
          "base_uri": "https://localhost:8080/"
        }
      },
      "execution_count": 4,
      "outputs": [
        {
          "output_type": "stream",
          "name": "stdout",
          "text": [
            "/usr/local/lib/python3.9/dist-packages/gdown/cli.py:121: FutureWarning: Option `--id` was deprecated in version 4.3.1 and will be removed in 5.0. You don't need to pass it anymore to use a file ID.\n",
            "  warnings.warn(\n",
            "Downloading...\n",
            "From: https://drive.google.com/uc?id=1jILbS8Gm4E5Xx4tDCPZh_7rId0eo8r9W\n",
            "To: /content/CVPR2023-DMVFN/pretrained_models/dmvfn_city.pkl\n",
            "100% 14.3M/14.3M [00:00<00:00, 130MB/s]\n",
            "/usr/local/lib/python3.9/dist-packages/gdown/cli.py:121: FutureWarning: Option `--id` was deprecated in version 4.3.1 and will be removed in 5.0. You don't need to pass it anymore to use a file ID.\n",
            "  warnings.warn(\n",
            "Downloading...\n",
            "From: https://drive.google.com/uc?id=1WrV30prRiS4hWOQBnVPUxdaTlp9XxmVK\n",
            "To: /content/CVPR2023-DMVFN/pretrained_models/dmvfn_kitti.pkl\n",
            "100% 14.3M/14.3M [00:00<00:00, 58.3MB/s]\n",
            "/usr/local/lib/python3.9/dist-packages/gdown/cli.py:121: FutureWarning: Option `--id` was deprecated in version 4.3.1 and will be removed in 5.0. You don't need to pass it anymore to use a file ID.\n",
            "  warnings.warn(\n",
            "Downloading...\n",
            "From: https://drive.google.com/uc?id=14_xQ3Yl3mO89hr28hbcQW3h63lLrcYY0\n",
            "To: /content/CVPR2023-DMVFN/pretrained_models/dmvfn_vimeo.pkl\n",
            "100% 14.3M/14.3M [00:00<00:00, 17.2MB/s]\n"
          ]
        }
      ]
    },
    {
      "cell_type": "code",
      "source": [
        "#@title Download test dataset\n",
        "#@markdown We use the validation set of cityscapes for testing.\n",
        "!mkdir ./data/\n",
        "!mkdir ./data/cityscapes\n",
        "!mkdir ./data/cityscapes/test\n",
        "os.chdir(\"./data/cityscapes/test/\")\n",
        "!gdown \"10zCt-uZFOqgF3tpdhluRqbs-4aScvGR4&confirm=t\"\n",
        "!unzip -q test.zip\n",
        "!rm -rf test.zip\n",
        "os.chdir(\"/content/CVPR2023-DMVFN/\")"
      ],
      "metadata": {
        "id": "hybjzE9AhEEF",
        "cellView": "form",
        "outputId": "fc5dda66-440c-4f47-b5ce-e4dd9b6096e4",
        "colab": {
          "base_uri": "https://localhost:8080/"
        }
      },
      "execution_count": 5,
      "outputs": [
        {
          "output_type": "stream",
          "name": "stdout",
          "text": [
            "Downloading...\n",
            "From: https://drive.google.com/uc?id=10zCt-uZFOqgF3tpdhluRqbs-4aScvGR4&confirm=t\n",
            "To: /content/CVPR2023-DMVFN/data/cityscapes/test/test.zip\n",
            "100% 5.22G/5.22G [00:30<00:00, 172MB/s]\n"
          ]
        }
      ]
    },
    {
      "cell_type": "code",
      "source": [
        "#@title Check if GPU resource is avaliable\n",
        "!nvidia-smi"
      ],
      "metadata": {
        "id": "ZLOsuDkVhIpA",
        "cellView": "form",
        "outputId": "ce9d8706-b0eb-4739-9971-148dfb3d44a9",
        "colab": {
          "base_uri": "https://localhost:8080/"
        }
      },
      "execution_count": 6,
      "outputs": [
        {
          "output_type": "stream",
          "name": "stdout",
          "text": [
            "Tue Mar 21 05:28:26 2023       \n",
            "+-----------------------------------------------------------------------------+\n",
            "| NVIDIA-SMI 525.85.12    Driver Version: 525.85.12    CUDA Version: 12.0     |\n",
            "|-------------------------------+----------------------+----------------------+\n",
            "| GPU  Name        Persistence-M| Bus-Id        Disp.A | Volatile Uncorr. ECC |\n",
            "| Fan  Temp  Perf  Pwr:Usage/Cap|         Memory-Usage | GPU-Util  Compute M. |\n",
            "|                               |                      |               MIG M. |\n",
            "|===============================+======================+======================|\n",
            "|   0  Tesla T4            Off  | 00000000:00:04.0 Off |                    0 |\n",
            "| N/A   47C    P0    26W /  70W |      0MiB / 15360MiB |      0%      Default |\n",
            "|                               |                      |                  N/A |\n",
            "+-------------------------------+----------------------+----------------------+\n",
            "                                                                               \n",
            "+-----------------------------------------------------------------------------+\n",
            "| Processes:                                                                  |\n",
            "|  GPU   GI   CI        PID   Type   Process name                  GPU Memory |\n",
            "|        ID   ID                                                   Usage      |\n",
            "|=============================================================================|\n",
            "|  No running processes found                                                 |\n",
            "+-----------------------------------------------------------------------------+\n"
          ]
        }
      ]
    },
    {
      "cell_type": "code",
      "source": [
        "#@title Start testing\n",
        "#@markdown The first run may take a while to download the model files needed for eval metric calculation. \n",
        "\n",
        "#@markdown The whole process takes a few minutes.\n",
        "!python3 ./scripts/test.py --val_datasets CityValDataset --load_path ./pretrained_models/dmvfn_city.pkl"
      ],
      "metadata": {
        "id": "oaqe6zvchKOv",
        "cellView": "form",
        "outputId": "a7eaca36-17a9-46b2-c498-dba7f2a40f03",
        "colab": {
          "base_uri": "https://localhost:8080/"
        }
      },
      "execution_count": 23,
      "outputs": [
        {
          "output_type": "stream",
          "name": "stdout",
          "text": [
            "Setting up [LPIPS] perceptual loss: trunk [alex], v[0.1], spatial [off]\n",
            "/usr/local/lib/python3.9/dist-packages/torchvision/models/_utils.py:208: UserWarning: The parameter 'pretrained' is deprecated since 0.13 and may be removed in the future, please use 'weights' instead.\n",
            "  warnings.warn(\n",
            "/usr/local/lib/python3.9/dist-packages/torchvision/models/_utils.py:223: UserWarning: Arguments other than a weight enum or `None` for 'weights' are deprecated since 0.13 and may be removed in the future. The current behavior is equivalent to passing `weights=AlexNet_Weights.IMAGENET1K_V1`. You can also use `weights=AlexNet_Weights.DEFAULT` to get the most up-to-date weights.\n",
            "  warnings.warn(msg)\n",
            "Loading model from: /usr/local/lib/python3.9/dist-packages/lpips/weights/v0.1/alex.pth\n",
            "/usr/local/lib/python3.9/dist-packages/torchvision/models/_utils.py:223: UserWarning: Arguments other than a weight enum or `None` for 'weights' are deprecated since 0.13 and may be removed in the future. The current behavior is equivalent to passing `weights=VGG19_Weights.IMAGENET1K_V1`. You can also use `weights=VGG19_Weights.DEFAULT` to get the most up-to-date weights.\n",
            "  warnings.warn(msg)\n",
            "Start testing...\n",
            "Dataset Length: 500\n",
            "Processing: 100% 500/500 [02:38<00:00,  3.15it/s]\n",
            "23-03-21 05:48:11.572 - INFO: 0             CityValDataset  psnr_0     30.0115  ssim_0     0.9018  ms_ssim_0     0.9589  lpips_0     0.0548\n",
            "23-03-21 05:48:11.572 - INFO: 0             CityValDataset  psnr_1     28.0422  ssim_1     0.8574  ms_ssim_1     0.9275  lpips_1     0.0793\n",
            "23-03-21 05:48:11.572 - INFO: 0             CityValDataset  psnr_2     26.6420  ssim_2     0.8221  ms_ssim_2     0.8957  lpips_2     0.1024\n",
            "23-03-21 05:48:11.572 - INFO: 0             CityValDataset  psnr_3     25.5776  ssim_3     0.7944  ms_ssim_3     0.8659  lpips_3     0.1241\n",
            "23-03-21 05:48:11.572 - INFO: 0             CityValDataset  psnr_4     24.7396  ssim_4     0.7727  ms_ssim_4     0.8389  lpips_4     0.1444\n"
          ]
        }
      ]
    }
  ]
}